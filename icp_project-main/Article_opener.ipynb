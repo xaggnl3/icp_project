{
 "cells": [
  {
   "cell_type": "code",
   "execution_count": 1,
   "id": "46815f28",
   "metadata": {},
   "outputs": [],
   "source": [
    "import pandas as pd\n",
    "import numpy as np"
   ]
  },
  {
   "cell_type": "code",
   "execution_count": 3,
   "id": "bdee7f82",
   "metadata": {},
   "outputs": [],
   "source": [
    "df_figaro = pd.read_csv(\"Articles_Figaro.csv\")\n",
    "df_20minutes = pd.read_csv(\"Articles_20minutes.csv\")"
   ]
  },
  {
   "cell_type": "code",
   "execution_count": 7,
   "id": "6ae5fe33",
   "metadata": {},
   "outputs": [],
   "source": [
    "def drop_unnamed(df):\n",
    "    if \"Unnamed: 0\" in df.columns:\n",
    "        df = df.drop(columns = {\"Unnamed: 0\"})\n",
    "    return df"
   ]
  },
  {
   "cell_type": "code",
   "execution_count": 8,
   "id": "d1a9e72f",
   "metadata": {},
   "outputs": [],
   "source": [
    "df_figaro = drop_unnamed(df_figaro)\n",
    "df_20minutes = drop_unnamed(df_20minutes)"
   ]
  },
  {
   "cell_type": "code",
   "execution_count": 11,
   "id": "09e2e849",
   "metadata": {},
   "outputs": [
    {
     "data": {
      "text/plain": [
       "479"
      ]
     },
     "execution_count": 11,
     "metadata": {},
     "output_type": "execute_result"
    }
   ],
   "source": [
    "df_20minutes[\"Article_Date\"].nunique()"
   ]
  },
  {
   "cell_type": "code",
   "execution_count": 12,
   "id": "4af5271f",
   "metadata": {},
   "outputs": [
    {
     "data": {
      "text/plain": [
       "448"
      ]
     },
     "execution_count": 12,
     "metadata": {},
     "output_type": "execute_result"
    }
   ],
   "source": [
    "df_figaro[\"Article_Date\"].nunique()"
   ]
  },
  {
   "cell_type": "code",
   "execution_count": 13,
   "id": "52007de9",
   "metadata": {},
   "outputs": [
    {
     "data": {
      "text/plain": [
       "'2020-01-04'"
      ]
     },
     "execution_count": 13,
     "metadata": {},
     "output_type": "execute_result"
    }
   ],
   "source": [
    "df_figaro[\"Article_Date\"].min()"
   ]
  },
  {
   "cell_type": "code",
   "execution_count": 15,
   "id": "1fdedcb4",
   "metadata": {},
   "outputs": [
    {
     "data": {
      "text/plain": [
       "'2021-12-01'"
      ]
     },
     "execution_count": 15,
     "metadata": {},
     "output_type": "execute_result"
    }
   ],
   "source": [
    "df_20minutes[\"Article_Date\"].min()\n",
    "df_figaro[\"Article_Date\"].max()"
   ]
  },
  {
   "cell_type": "code",
   "execution_count": 10,
   "id": "ea5eeabe",
   "metadata": {},
   "outputs": [
    {
     "data": {
      "text/html": [
       "<div>\n",
       "<style scoped>\n",
       "    .dataframe tbody tr th:only-of-type {\n",
       "        vertical-align: middle;\n",
       "    }\n",
       "\n",
       "    .dataframe tbody tr th {\n",
       "        vertical-align: top;\n",
       "    }\n",
       "\n",
       "    .dataframe thead th {\n",
       "        text-align: right;\n",
       "    }\n",
       "</style>\n",
       "<table border=\"1\" class=\"dataframe\">\n",
       "  <thead>\n",
       "    <tr style=\"text-align: right;\">\n",
       "      <th></th>\n",
       "      <th>Article_Date</th>\n",
       "      <th>Article_Title</th>\n",
       "      <th>Article_Summary</th>\n",
       "      <th>Article</th>\n",
       "      <th>Article_url</th>\n",
       "    </tr>\n",
       "  </thead>\n",
       "  <tbody>\n",
       "    <tr>\n",
       "      <th>0</th>\n",
       "      <td>2020-01-29</td>\n",
       "      <td>C'est l'heure du BIM : Nouvelle journée de grè...</td>\n",
       "      <td>ACTUALITES « 20 Minutes » compile pour vous le...</td>\n",
       "      <td>Vous avez manqué les infos de ce début de mati...</td>\n",
       "      <td>https://www.20minutes.fr/societe/2706043-20200...</td>\n",
       "    </tr>\n",
       "    <tr>\n",
       "      <th>1</th>\n",
       "      <td>2020-01-29</td>\n",
       "      <td>Coronavirus: Plus de 1.700 nouveaux cas en Chi...</td>\n",
       "      <td>LIVE Après la confirmation d’un quatrième cas ...</td>\n",
       "      <td>L’ESSENTIEL EN VIDEO POUR EN SAVOIR PLUS  3h00...</td>\n",
       "      <td>https://www.20minutes.fr/monde/2706039-2020012...</td>\n",
       "    </tr>\n",
       "    <tr>\n",
       "      <th>2</th>\n",
       "      <td>2020-02-03</td>\n",
       "      <td>C’est l’heure du BIM : Coronavirus plus meurtr...</td>\n",
       "      <td>ACTUALITES « 20 Minutes » compile pour vous le...</td>\n",
       "      <td>Vous avez manqué les infos de ce début de mati...</td>\n",
       "      <td>https://www.20minutes.fr/societe/2709683-20200...</td>\n",
       "    </tr>\n",
       "    <tr>\n",
       "      <th>3</th>\n",
       "      <td>2020-01-23</td>\n",
       "      <td>Coronavirus : La Chine confirme un 26e décès</td>\n",
       "      <td>EPIDEMIE Revivez avec nous les évènements auto...</td>\n",
       "      <td>L’ESSENTIEL POUR EN SAVOIR PLUS VIDEO  07h44 :...</td>\n",
       "      <td>https://www.20minutes.fr/monde/2701675-2020012...</td>\n",
       "    </tr>\n",
       "    <tr>\n",
       "      <th>4</th>\n",
       "      <td>2020-01-23</td>\n",
       "      <td>C'est l'heure du BIM : Le Coronavirus met Wuha...</td>\n",
       "      <td>ACTUALITES « 20 Minutes » compile pour vous le...</td>\n",
       "      <td>Vous avez manqué les infos de ce début de mati...</td>\n",
       "      <td>https://www.20minutes.fr/societe/2701619-20200...</td>\n",
       "    </tr>\n",
       "    <tr>\n",
       "      <th>5</th>\n",
       "      <td>2020-01-23</td>\n",
       "      <td>Coronavirus: Vols et trains suspendus au dépar...</td>\n",
       "      <td>SANTE L'OMS, qui a prolongé d'une journée sa r...</td>\n",
       "      <td>Ce n’est pas une quarantaine, mais on s’en rap...</td>\n",
       "      <td>https://www.20minutes.fr/monde/2701595-2020012...</td>\n",
       "    </tr>\n",
       "    <tr>\n",
       "      <th>6</th>\n",
       "      <td>2020-01-26</td>\n",
       "      <td>Coronavirus : Les expatriés français de Wuhan ...</td>\n",
       "      <td>SANTÉ La ville chinoise de 11 millions d’habit...</td>\n",
       "      <td>Leur ville a été mise en quarantaine pour caus...</td>\n",
       "      <td>https://www.20minutes.fr/monde/2703991-2020012...</td>\n",
       "    </tr>\n",
       "    <tr>\n",
       "      <th>7</th>\n",
       "      <td>2020-01-26</td>\n",
       "      <td>Coronavirus : Quatre étudiantes de l’universit...</td>\n",
       "      <td>SOCIAL Coronavirus oblige, quatre étudiantes e...</td>\n",
       "      <td>Elles sont rentrées, samedi, par avion. Quatre...</td>\n",
       "      <td>https://www.20minutes.fr/lille/2702523-2020012...</td>\n",
       "    </tr>\n",
       "    <tr>\n",
       "      <th>8</th>\n",
       "      <td>2020-01-27</td>\n",
       "      <td>Coronavirus : Vol direct, quarantaine, surveil...</td>\n",
       "      <td>RISQUE S’ils le souhaitent, les Français insta...</td>\n",
       "      <td>Une épidémie de coronavirus qui progresse sur ...</td>\n",
       "      <td>https://www.20minutes.fr/sante/2704875-2020012...</td>\n",
       "    </tr>\n",
       "    <tr>\n",
       "      <th>9</th>\n",
       "      <td>2020-01-27</td>\n",
       "      <td>Coronavirus : Le Premier ministre chinois en v...</td>\n",
       "      <td>CHINE Il s’agit de la première visite dans la ...</td>\n",
       "      <td>Le Premier ministre chinois était en visite ce...</td>\n",
       "      <td>https://www.20minutes.fr/monde/2704399-2020012...</td>\n",
       "    </tr>\n",
       "  </tbody>\n",
       "</table>\n",
       "</div>"
      ],
      "text/plain": [
       "  Article_Date                                      Article_Title  \\\n",
       "0   2020-01-29  C'est l'heure du BIM : Nouvelle journée de grè...   \n",
       "1   2020-01-29  Coronavirus: Plus de 1.700 nouveaux cas en Chi...   \n",
       "2   2020-02-03  C’est l’heure du BIM : Coronavirus plus meurtr...   \n",
       "3   2020-01-23       Coronavirus : La Chine confirme un 26e décès   \n",
       "4   2020-01-23  C'est l'heure du BIM : Le Coronavirus met Wuha...   \n",
       "5   2020-01-23  Coronavirus: Vols et trains suspendus au dépar...   \n",
       "6   2020-01-26  Coronavirus : Les expatriés français de Wuhan ...   \n",
       "7   2020-01-26  Coronavirus : Quatre étudiantes de l’universit...   \n",
       "8   2020-01-27  Coronavirus : Vol direct, quarantaine, surveil...   \n",
       "9   2020-01-27  Coronavirus : Le Premier ministre chinois en v...   \n",
       "\n",
       "                                     Article_Summary  \\\n",
       "0  ACTUALITES « 20 Minutes » compile pour vous le...   \n",
       "1  LIVE Après la confirmation d’un quatrième cas ...   \n",
       "2  ACTUALITES « 20 Minutes » compile pour vous le...   \n",
       "3  EPIDEMIE Revivez avec nous les évènements auto...   \n",
       "4  ACTUALITES « 20 Minutes » compile pour vous le...   \n",
       "5  SANTE L'OMS, qui a prolongé d'une journée sa r...   \n",
       "6  SANTÉ La ville chinoise de 11 millions d’habit...   \n",
       "7  SOCIAL Coronavirus oblige, quatre étudiantes e...   \n",
       "8  RISQUE S’ils le souhaitent, les Français insta...   \n",
       "9  CHINE Il s’agit de la première visite dans la ...   \n",
       "\n",
       "                                             Article  \\\n",
       "0  Vous avez manqué les infos de ce début de mati...   \n",
       "1  L’ESSENTIEL EN VIDEO POUR EN SAVOIR PLUS  3h00...   \n",
       "2  Vous avez manqué les infos de ce début de mati...   \n",
       "3  L’ESSENTIEL POUR EN SAVOIR PLUS VIDEO  07h44 :...   \n",
       "4  Vous avez manqué les infos de ce début de mati...   \n",
       "5  Ce n’est pas une quarantaine, mais on s’en rap...   \n",
       "6  Leur ville a été mise en quarantaine pour caus...   \n",
       "7  Elles sont rentrées, samedi, par avion. Quatre...   \n",
       "8  Une épidémie de coronavirus qui progresse sur ...   \n",
       "9  Le Premier ministre chinois était en visite ce...   \n",
       "\n",
       "                                         Article_url  \n",
       "0  https://www.20minutes.fr/societe/2706043-20200...  \n",
       "1  https://www.20minutes.fr/monde/2706039-2020012...  \n",
       "2  https://www.20minutes.fr/societe/2709683-20200...  \n",
       "3  https://www.20minutes.fr/monde/2701675-2020012...  \n",
       "4  https://www.20minutes.fr/societe/2701619-20200...  \n",
       "5  https://www.20minutes.fr/monde/2701595-2020012...  \n",
       "6  https://www.20minutes.fr/monde/2703991-2020012...  \n",
       "7  https://www.20minutes.fr/lille/2702523-2020012...  \n",
       "8  https://www.20minutes.fr/sante/2704875-2020012...  \n",
       "9  https://www.20minutes.fr/monde/2704399-2020012...  "
      ]
     },
     "execution_count": 10,
     "metadata": {},
     "output_type": "execute_result"
    }
   ],
   "source": [
    "df_20minutes.head(n=10)"
   ]
  },
  {
   "cell_type": "code",
   "execution_count": 9,
   "id": "42ecd7bd",
   "metadata": {},
   "outputs": [
    {
     "data": {
      "text/html": [
       "<div>\n",
       "<style scoped>\n",
       "    .dataframe tbody tr th:only-of-type {\n",
       "        vertical-align: middle;\n",
       "    }\n",
       "\n",
       "    .dataframe tbody tr th {\n",
       "        vertical-align: top;\n",
       "    }\n",
       "\n",
       "    .dataframe thead th {\n",
       "        text-align: right;\n",
       "    }\n",
       "</style>\n",
       "<table border=\"1\" class=\"dataframe\">\n",
       "  <thead>\n",
       "    <tr style=\"text-align: right;\">\n",
       "      <th></th>\n",
       "      <th>Article_Date</th>\n",
       "      <th>Article_Title</th>\n",
       "      <th>Article_Summary</th>\n",
       "      <th>Article</th>\n",
       "      <th>Article_url</th>\n",
       "    </tr>\n",
       "  </thead>\n",
       "  <tbody>\n",
       "    <tr>\n",
       "      <th>0</th>\n",
       "      <td>2021-05-13</td>\n",
       "      <td>Le Japon très en retard sur la vaccination ant...</td>\n",
       "      <td>DÉCRYPTAGE - Seuls 3% des habitants ont reçu a...</td>\n",
       "      <td>La publicité s’étalait mardi matin sur deux pl...</td>\n",
       "      <td>http://www.lefigaro.fr/sciences/le-japon-tres-...</td>\n",
       "    </tr>\n",
       "    <tr>\n",
       "      <th>1</th>\n",
       "      <td>2021-05-13</td>\n",
       "      <td>Malgré le frein du couvre-feu, le sport frança...</td>\n",
       "      <td>Le retour progressif, à compter du 19 mai, du ...</td>\n",
       "      <td>Voir Rafael Nadal serrer le poing au milieu d’...</td>\n",
       "      <td>http://www.lefigaro.fr/sports/le-sport-francai...</td>\n",
       "    </tr>\n",
       "    <tr>\n",
       "      <th>2</th>\n",
       "      <td>2021-05-13</td>\n",
       "      <td>La Guyane se reconfine pour deux semaines à co...</td>\n",
       "      <td>Face à la détérioration de la situation sanita...</td>\n",
       "      <td>La Guyane sera de nouveau sous cloche du 14 au...</td>\n",
       "      <td>http://www.lefigaro.fr/actualite-france/la-guy...</td>\n",
       "    </tr>\n",
       "    <tr>\n",
       "      <th>3</th>\n",
       "      <td>2021-05-13</td>\n",
       "      <td>Covid-19 - «Je vais fuir, même si je dois perd...</td>\n",
       "      <td>TÉMOIGNAGES - En Inde, les professeurs des éta...</td>\n",
       "      <td>Les billets d’avion sont pris. Samedi 15 mai, ...</td>\n",
       "      <td>http://www.lefigaro.fr/actualite-france/covid-...</td>\n",
       "    </tr>\n",
       "    <tr>\n",
       "      <th>4</th>\n",
       "      <td>2021-05-13</td>\n",
       "      <td>Covid-19 : après l'Inde, le Népal désemparé fa...</td>\n",
       "      <td>Près de 1000 personnes sont décédées au cours ...</td>\n",
       "      <td>Cinq malades du Covid-19 sont morts d'asphyxie...</td>\n",
       "      <td>http://www.lefigaro.fr/international/covid-19-...</td>\n",
       "    </tr>\n",
       "    <tr>\n",
       "      <th>5</th>\n",
       "      <td>2021-05-13</td>\n",
       "      <td>Covid-19 : «Oui, il faudra vacciner les enfant...</td>\n",
       "      <td>Cette mesure consistera moins à protéger les e...</td>\n",
       "      <td>Alors que les États-Unis et le Canada ont auto...</td>\n",
       "      <td>http://www.lefigaro.fr/sciences/covid-19-oui-i...</td>\n",
       "    </tr>\n",
       "    <tr>\n",
       "      <th>6</th>\n",
       "      <td>2021-05-13</td>\n",
       "      <td>Concerts-test: feu vert pour Montpellier, pas ...</td>\n",
       "      <td>Le ministère de la Culture a recalé le projet ...</td>\n",
       "      <td>Outre le concert-test de Paris, le gouvernemen...</td>\n",
       "      <td>http://www.lefigaro.fr/culture/concerts-test-f...</td>\n",
       "    </tr>\n",
       "    <tr>\n",
       "      <th>7</th>\n",
       "      <td>2021-05-13</td>\n",
       "      <td>L'Odéon, l'Opéra de Lyon, la Criée de Marseill...</td>\n",
       "      <td>Les directeurs de ces scènes nationales demand...</td>\n",
       "      <td>Les directeurs de quatre théâtres publics, don...</td>\n",
       "      <td>http://www.lefigaro.fr/culture/l-odeon-l-opera...</td>\n",
       "    </tr>\n",
       "    <tr>\n",
       "      <th>8</th>\n",
       "      <td>2021-05-12</td>\n",
       "      <td>Covid-19: la France veut rattraper son retard ...</td>\n",
       "      <td>Après l’élargissement aux plus de 50 ans lundi...</td>\n",
       "      <td>La France est entrée cette semaine dans la deu...</td>\n",
       "      <td>http://www.lefigaro.fr/sciences/covid-19-la-fr...</td>\n",
       "    </tr>\n",
       "    <tr>\n",
       "      <th>9</th>\n",
       "      <td>2021-05-12</td>\n",
       "      <td>Feu vert des députés à une rallonge budgétaire...</td>\n",
       "      <td>La commission des Finances de l'Assemblée a do...</td>\n",
       "      <td>Et pour quelques milliards de plus. La commiss...</td>\n",
       "      <td>http://www.lefigaro.fr/conjoncture/feu-vert-de...</td>\n",
       "    </tr>\n",
       "  </tbody>\n",
       "</table>\n",
       "</div>"
      ],
      "text/plain": [
       "  Article_Date                                      Article_Title  \\\n",
       "0   2021-05-13  Le Japon très en retard sur la vaccination ant...   \n",
       "1   2021-05-13  Malgré le frein du couvre-feu, le sport frança...   \n",
       "2   2021-05-13  La Guyane se reconfine pour deux semaines à co...   \n",
       "3   2021-05-13  Covid-19 - «Je vais fuir, même si je dois perd...   \n",
       "4   2021-05-13  Covid-19 : après l'Inde, le Népal désemparé fa...   \n",
       "5   2021-05-13  Covid-19 : «Oui, il faudra vacciner les enfant...   \n",
       "6   2021-05-13  Concerts-test: feu vert pour Montpellier, pas ...   \n",
       "7   2021-05-13  L'Odéon, l'Opéra de Lyon, la Criée de Marseill...   \n",
       "8   2021-05-12  Covid-19: la France veut rattraper son retard ...   \n",
       "9   2021-05-12  Feu vert des députés à une rallonge budgétaire...   \n",
       "\n",
       "                                     Article_Summary  \\\n",
       "0  DÉCRYPTAGE - Seuls 3% des habitants ont reçu a...   \n",
       "1  Le retour progressif, à compter du 19 mai, du ...   \n",
       "2  Face à la détérioration de la situation sanita...   \n",
       "3  TÉMOIGNAGES - En Inde, les professeurs des éta...   \n",
       "4  Près de 1000 personnes sont décédées au cours ...   \n",
       "5  Cette mesure consistera moins à protéger les e...   \n",
       "6  Le ministère de la Culture a recalé le projet ...   \n",
       "7  Les directeurs de ces scènes nationales demand...   \n",
       "8  Après l’élargissement aux plus de 50 ans lundi...   \n",
       "9  La commission des Finances de l'Assemblée a do...   \n",
       "\n",
       "                                             Article  \\\n",
       "0  La publicité s’étalait mardi matin sur deux pl...   \n",
       "1  Voir Rafael Nadal serrer le poing au milieu d’...   \n",
       "2  La Guyane sera de nouveau sous cloche du 14 au...   \n",
       "3  Les billets d’avion sont pris. Samedi 15 mai, ...   \n",
       "4  Cinq malades du Covid-19 sont morts d'asphyxie...   \n",
       "5  Alors que les États-Unis et le Canada ont auto...   \n",
       "6  Outre le concert-test de Paris, le gouvernemen...   \n",
       "7  Les directeurs de quatre théâtres publics, don...   \n",
       "8  La France est entrée cette semaine dans la deu...   \n",
       "9  Et pour quelques milliards de plus. La commiss...   \n",
       "\n",
       "                                         Article_url  \n",
       "0  http://www.lefigaro.fr/sciences/le-japon-tres-...  \n",
       "1  http://www.lefigaro.fr/sports/le-sport-francai...  \n",
       "2  http://www.lefigaro.fr/actualite-france/la-guy...  \n",
       "3  http://www.lefigaro.fr/actualite-france/covid-...  \n",
       "4  http://www.lefigaro.fr/international/covid-19-...  \n",
       "5  http://www.lefigaro.fr/sciences/covid-19-oui-i...  \n",
       "6  http://www.lefigaro.fr/culture/concerts-test-f...  \n",
       "7  http://www.lefigaro.fr/culture/l-odeon-l-opera...  \n",
       "8  http://www.lefigaro.fr/sciences/covid-19-la-fr...  \n",
       "9  http://www.lefigaro.fr/conjoncture/feu-vert-de...  "
      ]
     },
     "execution_count": 9,
     "metadata": {},
     "output_type": "execute_result"
    }
   ],
   "source": [
    "df_figaro.head(n=10)"
   ]
  }
 ],
 "metadata": {
  "kernelspec": {
   "display_name": "Python 3",
   "language": "python",
   "name": "python3"
  },
  "language_info": {
   "codemirror_mode": {
    "name": "ipython",
    "version": 3
   },
   "file_extension": ".py",
   "mimetype": "text/x-python",
   "name": "python",
   "nbconvert_exporter": "python",
   "pygments_lexer": "ipython3",
   "version": "3.7.10"
  }
 },
 "nbformat": 4,
 "nbformat_minor": 5
}
