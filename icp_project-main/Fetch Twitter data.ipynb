{
 "cells": [
  {
   "cell_type": "code",
   "execution_count": null,
   "metadata": {},
   "outputs": [],
   "source": [
    "import sys\n",
    "import tweepy"
   ]
  },
  {
   "cell_type": "code",
   "execution_count": null,
   "metadata": {},
   "outputs": [],
   "source": [
    "# junk func\n",
    "def twitter_auth():\n",
    "    try:\n",
    "        api_key = \"uQL41SVNweVHbnOgH8d0MUEdq\"\n",
    "        api_key_secret = \"90VhaQ5wRSahVNROjTJKGAyfxPTCh2UrjXJi5iHlrnZVWCWfMi\"\n",
    "        access_token = \"1389702330082369540-RoQYSEEFX92swXgpSOG9QCWhKrRHfA\"\n",
    "        access_token_secret = \"8Eccl0VF1PuWPoKCFUYSG71Ttm0bwD8ncMv3P3BR4GPmJ\"\n",
    "        \n",
    "    except Keyerror:\n",
    "        sys.stderr.write(\"Twitter_errors* environment variable not set\\n\")\n",
    "        sys.exit(1)\n",
    "    auth = tweepy.OAuthHandler(api_key, api_key_secret)\n",
    "    auth.set_access_token(access_token, access_token_secret)\n",
    "    return auth\n",
    "\n",
    "def get_twitter_client():\n",
    "    auth = twitter_auth()\n",
    "    client = tweepy.API(auth, wait_on_rate_limit = True)\n",
    "    return client\n",
    "\n",
    "if __name__ == \"__main__\":\n",
    "    \n",
    "    user = input(\"Enter username: \")\n",
    "    client = get_twitter_client()\n",
    "    for status in tweepy.Cursor(client.home_timeline, screen_name =user).items():\n",
    "        print(status.text)"
   ]
  },
  {
   "cell_type": "markdown",
   "metadata": {},
   "source": [
    "# Method\n",
    "https://larevueia.fr/nlp-avec-python-analyse-de-sentiments-sur-twitter/\n",
    "\n",
    "# Source\n",
    "https://drive.google.com/file/d/1ByoJlO9LyJ-o0x0GYGj7s7eJRwi0g3bz/view"
   ]
  },
  {
   "cell_type": "code",
   "execution_count": null,
   "metadata": {},
   "outputs": [],
   "source": [
    "from tqdm import tqdm\n",
    "import twitterscraper\n",
    "from twitterscraper import query_tweets\n",
    "import datetime as dt\n",
    "import pandas as pd"
   ]
  },
  {
   "cell_type": "markdown",
   "metadata": {},
   "source": [
    "tweets from csv file provided in url link above\n",
    "\n",
    "code used : \n",
    "\n",
    "debut = dt.date(2020,1,1)\n",
    "fin = dt.date(2020,6,1)\n",
    "mots=\"Covid-19 OR Covid OR Corona OR Pandémie OR épidémie OR Coronavirus OR virus\"\n",
    "\n",
    "tweets = query_tweets(query=mots, begindate = debut, \n",
    "enddate = fin, lang = \"fr\")\n",
    "\n",
    "tweets = pd.DataFrame(t.__dict__ for t in tweets)\n",
    "\n",
    "tweets.to_csv('tweet_covid.csv')"
   ]
  },
  {
   "cell_type": "markdown",
   "metadata": {},
   "source": [
    "method above doesn't work anymore"
   ]
  },
  {
   "cell_type": "code",
   "execution_count": null,
   "metadata": {},
   "outputs": [],
   "source": [
    "debut = dt.date(2020,1,1)\n",
    "fin = dt.date(2020,6,1)\n",
    "mots=\"Covid-19 OR Covid OR Corona OR Pandémie OR épidémie OR Coronavirus OR virus\"\n",
    "\n",
    "list_tweets = query_tweets(query=mots, begindate = debut, \n",
    "enddate = fin, lang = \"fr\", use_proxy=False)\n",
    "\n",
    "tweets = pd.DataFrame(t.__dict__ for t in list_tweets)\n",
    "\n",
    "tweets.to_csv('tweet_covid.csv')"
   ]
  },
  {
   "cell_type": "code",
   "execution_count": null,
   "metadata": {},
   "outputs": [],
   "source": [
    "french_tweets = pd.read_csv(\"tweet_covid.csv\")\n",
    "french_tweets.drop(columns= \"Unnamed: 0\", inplace=True)"
   ]
  },
  {
   "cell_type": "code",
   "execution_count": null,
   "metadata": {},
   "outputs": [],
   "source": [
    "french_tweets[\"date\"].max()"
   ]
  },
  {
   "cell_type": "markdown",
   "metadata": {},
   "source": [
    "# other method with twint"
   ]
  },
  {
   "cell_type": "code",
   "execution_count": null,
   "metadata": {},
   "outputs": [],
   "source": [
    "import twint\n",
    "import nest_asyncio\n",
    "nest_asyncio.apply()"
   ]
  },
  {
   "cell_type": "code",
   "execution_count": null,
   "metadata": {},
   "outputs": [],
   "source": [
    "tw = twint.Config()"
   ]
  },
  {
   "cell_type": "code",
   "execution_count": null,
   "metadata": {},
   "outputs": [],
   "source": [
    "tw.Search = \"covid\"\n",
    "twint.run.Search(tw)\n",
    "tw.Store_json = True\n",
    "tw.Output = \"../Kynapse Project/covid_search.json\""
   ]
  },
  {
   "cell_type": "code",
   "execution_count": null,
   "metadata": {},
   "outputs": [],
   "source": [
    "tw.Search = \"Covid-19\"\n",
    "tw.Until = \"2020-03-22\"\n",
    "tw.Custom[\"tweet\"] = [\"id\"]\n",
    "tw.Pandas = True\n",
    "tw.Lang = \"fr\"\n",
    "tw.Limit = 200\n",
    "tw.Geo = \"France\"\n",
    "twint.run.Search(tw)\n",
    "tweet = twint.storage.panda.Tweets_df"
   ]
  },
  {
   "cell_type": "code",
   "execution_count": null,
   "metadata": {},
   "outputs": [],
   "source": [
    "api_log_df = pd.DataFrame()\n",
    "api_key = \"uQL41SVNweVHbnOgH8d0MUEdq\"\n",
    "api_key_secret = \"90VhaQ5wRSahVNROjTJKGAyfxPTCh2UrjXJi5iHlrnZVWCWfMi\"\n",
    "access_token = \"1389702330082369540-RoQYSEEFX92swXgpSOG9QCWhKrRHfA\"\n",
    "access_token_secret = \"8Eccl0VF1PuWPoKCFUYSG71Ttm0bwD8ncMv3P3BR4GPmJ\""
   ]
  },
  {
   "cell_type": "code",
   "execution_count": null,
   "metadata": {},
   "outputs": [],
   "source": [
    "\n",
    "pd.to_csv(\"\")"
   ]
  },
  {
   "cell_type": "markdown",
   "metadata": {},
   "source": [
    "# method above doesn't work anymore\n",
    "\n",
    "https://github.com/twintproject/twint/issues/915\n",
    "\n",
    "the twitter search timeline has been deleted by Twitter\n",
    "\n",
    "https://twitter.com/i/search/timeline"
   ]
  },
  {
   "cell_type": "markdown",
   "metadata": {},
   "source": [
    "# try and follow this one for future\n",
    "tweepy with tutorial , guy might have premium:\n",
    "https://www.youtube.com/watch?v=XOdrsdhWpKE&ab_channel=ComputerScience\n",
    "\n",
    "library from github, recent last update date\n",
    "https://github.com/Altimis/Scweet"
   ]
  }
 ],
 "metadata": {
  "kernelspec": {
   "display_name": "Python 3",
   "language": "python",
   "name": "python3"
  },
  "language_info": {
   "codemirror_mode": {
    "name": "ipython",
    "version": 3
   },
   "file_extension": ".py",
   "mimetype": "text/x-python",
   "name": "python",
   "nbconvert_exporter": "python",
   "pygments_lexer": "ipython3",
   "version": "3.7.10"
  }
 },
 "nbformat": 4,
 "nbformat_minor": 4
}
