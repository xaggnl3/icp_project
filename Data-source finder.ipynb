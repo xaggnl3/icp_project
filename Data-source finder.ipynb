{
 "cells": [
  {
   "cell_type": "code",
   "execution_count": 1,
   "metadata": {},
   "outputs": [],
   "source": [
    "import datetime\n",
    "import numpy as np\n",
    "import os \n",
    "import pandas as pd\n",
    "from pytz import timezone"
   ]
  },
  {
   "cell_type": "code",
   "execution_count": 2,
   "metadata": {},
   "outputs": [],
   "source": [
    "# Datenstand --> Date when the record was last updated\n",
    "# Meldedatum --> Date when the health department became aware of the case\n",
    "\n",
    "# AnzahlFall --> Number of cases in the corresponding group\n",
    "# AnzahlTodesfall-->  Number of deaths in the corresponding group\n",
    "\n",
    "german_covid = pd.read_csv(\"table_indicateurs_german_dep.csv\")\n",
    "\n",
    "# Source : https://npgeo-corona-npgeo-de.hub.arcgis.com/datasets/dd4580c810204019a7b8eb3e0b329dd6_0\n",
    "\n",
    "france_covid = pd.read_csv(\"table_indicateurs_france.csv\")\n",
    "\n",
    "# https://www.data.gouv.fr/en/datasets/synthese-des-indicateurs-de-suivi-de-lepidemie-covid-19/\n",
    "\n",
    "\n",
    "uk_covid = pd.read_csv(\"table_indicateurs_uk.csv\")\n",
    "# https://coronavirus.data.gov.uk/details/download"
   ]
  },
  {
   "cell_type": "code",
   "execution_count": null,
   "metadata": {},
   "outputs": [],
   "source": [
    "def set_name(df):\n",
    "    mapping = { df.columns[0] : \"date\",\n",
    "                df.columns[1] : \"daily_case_count\",\n",
    "                df.columns[2] : \"daily_death_count\"}\n",
    "    df = df.rename(columns=mapping)\n",
    "    return df\n",
    "\n",
    "def date_crop(df):\n",
    "    df = df[(df[\"date\"] >= \"2020-03-18\") & (df[\"date\"] <= \"2021-04-15\")]\n",
    "    return df\n",
    "\n",
    "def sort_float_to_int(df):\n",
    "    df = df.astype({df.columns[1] : int, df.columns[2] : int})\n",
    "    df = df.sort_values(by=\"date\", ascending=True)\n",
    "    return df\n",
    "\n",
    "\n",
    "def tidy(df):\n",
    "    df = sort_float_to_int(date_crop(set_name(df)))\n",
    "    return df"
   ]
  },
  {
   "cell_type": "code",
   "execution_count": null,
   "metadata": {},
   "outputs": [],
   "source": [
    "german_covid[\"Meldedatum\"] = pd.to_datetime(german_covid[\"Meldedatum\"]) #date of confirmed case or death\n",
    "\n",
    "agg_fr_covid = france_covid.groupby(\"date\")[\"conf_j1\",\"incid_dchosp\"].sum().reset_index() \n",
    "agg_ger_covid = german_covid.groupby(german_covid[\"Meldedatum\"].dt.strftime(\"%Y-%m-%d\"))[\"AnzahlFall\",\"AnzahlTodesfall\"].sum().reset_index()  \n",
    "agg_uk_covid = uk_covid[[\"date\",\"newCasesByPublishDate\", \"newDailyNsoDeathsByDeathDate\"]]"
   ]
  },
  {
   "cell_type": "code",
   "execution_count": null,
   "metadata": {},
   "outputs": [],
   "source": [
    "France_Covid, Germany_Covid, UK_Covid = tidy(agg_fr_covid), tidy(agg_ger_covid), tidy(agg_uk_covid)"
   ]
  },
  {
   "cell_type": "markdown",
   "metadata": {},
   "source": [
    "# EXPORT\n"
   ]
  },
  {
   "cell_type": "code",
   "execution_count": null,
   "metadata": {},
   "outputs": [],
   "source": [
    "files =[France_Covid, Germany_Covid, UK_Covid]\n",
    "\n",
    "if not os.path.exists(\"country_covid\"):\n",
    "    os.mkdir(\"country_covid\")\n",
    "\n",
    "for country, df in enumerate(files):\n",
    "    df.to_csv(f\"country_covid/file_{country}.csv\", index=False)"
   ]
  },
  {
   "cell_type": "markdown",
   "metadata": {},
   "source": [
    "# Notes"
   ]
  },
  {
   "cell_type": "code",
   "execution_count": null,
   "metadata": {},
   "outputs": [],
   "source": [
    "# https://medium.com/@bewerunge.franz/google-trends-how-to-acquire-daily-data-for-broad-time-frames-b6c6dfe200e6\n",
    "# trend scaling = take daily data and multiply by monthly metric (daily* month /100)\n",
    "\n",
    "# https://www.youtube.com/watch?v=cuTUbPQk2R4&ab_channel=KostadinRistovski\n",
    "\n",
    "\n",
    "# https://www.medrxiv.org/content/10.1101/2021.02.18.21251966v1.full\n",
    "\n",
    "# study suggests that Google trends is biased :\n",
    "#     quote: However, search activity may, for example, \n",
    "#         be triggered by curiosity following news reports of suicide deaths,\n",
    "#         particularly celebrity deaths\n",
    "\n",
    "#INFORMATION TO GET FOR CROSS ANALYSIS --> What are we trying to monitor \n",
    "\n",
    "# Political support : emmanuel Macron polls\n",
    "# trust in political party\n",
    "\n",
    "# Suicidal thoughts / depression :\n",
    "#number of visits to therapists\n",
    "#drug intake ( Psychoactive)\n",
    "# alcohol and tabacoo intake evolution (addictions)\n",
    "#pornography (evolution)\n",
    "#job loss\n",
    "# salary / compensation package evolution\n",
    "# unemployment\n",
    "#belief of a better future / optimism\n",
    "#isolation rate ? \n",
    "# sleep quality\n",
    "\n",
    "\n",
    "#Divide the population in segments and compare evolutions.\n",
    "#age groups / socio economic groups\n",
    "\n",
    "#insight : très difficile de trouver un flux continu de données à travers le temps.\n",
    "# solution : Google API , Google Trends\n",
    "\n",
    "# https://bmjopen.bmj.com/content/10/9/e040620\n",
    "# paper in the uk: survey conducted april 2020\n",
    "#     result : women, young and covid at risk = more anxiety and depression\n",
    "\n",
    "# https://www-statista-com.ezp.em-lyon.com/statistics/1203423/state-mental-health-covid-19-france/\n",
    "# france evolution of A, D, S thoughts (only 21 entries of data)"
   ]
  }
 ],
 "metadata": {
  "kernelspec": {
   "display_name": "Python 3",
   "language": "python",
   "name": "python3"
  },
  "language_info": {
   "codemirror_mode": {
    "name": "ipython",
    "version": 3
   },
   "file_extension": ".py",
   "mimetype": "text/x-python",
   "name": "python",
   "nbconvert_exporter": "python",
   "pygments_lexer": "ipython3",
   "version": "3.7.6"
  }
 },
 "nbformat": 4,
 "nbformat_minor": 4
}
